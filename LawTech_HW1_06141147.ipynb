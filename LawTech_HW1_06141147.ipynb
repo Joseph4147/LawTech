from selenium import webdriver
driver = webdriver.Chrome('./chromedriver')
driver.get('https://shopping.friday.tw/ec2/product?pid=7380168&cid=418800&sid=0&mid=1')
