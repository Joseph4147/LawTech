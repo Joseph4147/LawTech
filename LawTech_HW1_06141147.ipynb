{
 "cells": [
  {
   "cell_type": "code",
   "execution_count": 9,
   "metadata": {},
   "outputs": [],
   "source": [
    "test1 = \"Zombie stories are life lessons for boys who don't mind thinking about bodies, but can't cope with emotions. \\\n",
    "Vampire stories are in many ways sex for the squeamish.\""
   ]
  },
  {
   "cell_type": "code",
   "execution_count": 10,
   "metadata": {},
   "outputs": [
    {
     "name": "stdout",
     "output_type": "stream",
     "text": [
      "['Zombie', 'stories', 'are', 'life', 'lessons', 'for', 'boys', 'who', \"don't\", 'mind', 'thinking', 'about', 'bodies,', 'but', \"can't\", 'cope', 'with', 'emotions.', 'Vampire', 'stories', 'are', 'in', 'many', 'ways', 'sex', 'for', 'the', 'squeamish.']\n"
     ]
    }
   ],
   "source": [
    "test1=test1.split(' ')\n",
    "print(test1)"
   ]
  },
  {
   "cell_type": "code",
   "execution_count": 25,
   "metadata": {},
   "outputs": [
    {
     "name": "stdout",
     "output_type": "stream",
     "text": [
      "Zombie\n"
     ]
    }
   ],
   "source": [
    "b= test1[test1.index('Zombie')]\n",
    "print(b)"
   ]
  },
  {
   "cell_type": "code",
   "execution_count": 21,
   "metadata": {
    "scrolled": true
   },
   "outputs": [
    {
     "name": "stdout",
     "output_type": "stream",
     "text": [
      "Vampire\n"
     ]
    }
   ],
   "source": [
    "a = test1[test1.index('Vampire')]\n",
    "print(a)"
   ]
  },
  {
   "cell_type": "code",
   "execution_count": 28,
   "metadata": {},
   "outputs": [
    {
     "name": "stdout",
     "output_type": "stream",
     "text": [
      "boys\n"
     ]
    }
   ],
   "source": [
    "c=(test1[test1.index('boys')])\n",
    "print(c)"
   ]
  },
  {
   "cell_type": "code",
   "execution_count": 29,
   "metadata": {},
   "outputs": [
    {
     "name": "stdout",
     "output_type": "stream",
     "text": [
      "Vampire\n"
     ]
    }
   ],
   "source": [
    "print(format(a))"
   ]
  },
  {
   "cell_type": "code",
   "execution_count": 30,
   "metadata": {},
   "outputs": [
    {
     "name": "stdout",
     "output_type": "stream",
     "text": [
      "Zombie\n"
     ]
    }
   ],
   "source": [
    "print(format(b))"
   ]
  },
  {
   "cell_type": "code",
   "execution_count": 31,
   "metadata": {},
   "outputs": [
    {
     "name": "stdout",
     "output_type": "stream",
     "text": [
      "boys\n"
     ]
    }
   ],
   "source": [
    "print(format(c))"
   ]
  },
  {
   "cell_type": "code",
   "execution_count": 14,
   "metadata": {},
   "outputs": [],
   "source": [
    "List = [23, 'red', 3, ['15', 'apple', [3, '3.5']], '27', [90, 'fight']]"
   ]
  },
  {
   "cell_type": "code",
   "execution_count": 46,
   "metadata": {},
   "outputs": [
    {
     "name": "stdout",
     "output_type": "stream",
     "text": [
      "119\n"
     ]
    }
   ],
   "source": [
    "a= List[List.index(23)]+List[List.index(3)]+List[3][2][List[3][2].index(3)]+List[5][List[5].index(90)]\n",
    "print(a)"
   ]
  },
  {
   "cell_type": "code",
   "execution_count": 42,
   "metadata": {},
   "outputs": [
    {
     "name": "stdout",
     "output_type": "stream",
     "text": [
      "23\n"
     ]
    }
   ],
   "source": [
    "print(List[List[5].index(90)])"
   ]
  },
  {
   "cell_type": "code",
   "execution_count": 60,
   "metadata": {},
   "outputs": [
    {
     "name": "stdout",
     "output_type": "stream",
     "text": [
      "166.9\n"
     ]
    }
   ],
   "source": [
    "dic = {'1': ['Jay','M',170] , '2':['Bill', 'M', 189] , '3':['Alice','F',160] , '4':['May','F',158] , '5':['Max','M',185] , '6':['Ann','F',148] , '7':['Dabby','F',150] , '8':['Steve','M',180] , '9':['Jet','M',173] , '10':['Amy','F',156]}\n",
    "total = 0\n",
    "for i in range(1,11):\n",
    "    total = total + dic[str(i)][2]\n",
    "print(total/10)"
   ]
  }
 ],
 "metadata": {
  "kernelspec": {
   "display_name": "Python 3",
   "language": "python",
   "name": "python3"
  },
  "language_info": {
   "codemirror_mode": {
    "name": "ipython",
    "version": 3
   },
   "file_extension": ".py",
   "mimetype": "text/x-python",
   "name": "python",
   "nbconvert_exporter": "python",
   "pygments_lexer": "ipython3",
   "version": "3.8.3"
  }
 },
 "nbformat": 4,
 "nbformat_minor": 4
}
